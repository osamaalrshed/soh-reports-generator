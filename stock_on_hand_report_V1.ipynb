{
 "cells": [
  {
   "cell_type": "markdown",
   "metadata": {},
   "source": [
    "# Input files pathes"
   ]
  },
  {
   "cell_type": "code",
   "execution_count": 1,
   "metadata": {},
   "outputs": [
    {
     "name": "stdin",
     "output_type": "stream",
     "text": [
      "Enter BY file path \"C:\\Users\\osama\\Desktop\\test_jeddah_stock\\Full_Inventory_Status_Report (8) (1).xls\"\n",
      "Enter SAP file path \"C:\\Users\\osama\\Desktop\\test_jeddah_stock\\ZLOG010 W2C1-1000 27.1.2022.XLSX\"\n"
     ]
    }
   ],
   "source": [
    "import pandas as pd\n",
    "\n",
    "#Input Files Pathes\n",
    "by_path=input(\"Enter BY file path\")\n",
    "by_path= by_path[1:len(by_path)-1]\n",
    "\n",
    "\n",
    "def str_to_raw(s):\n",
    "    raw_map = {8:r'\\b', 7:r'\\a', 12:r'\\f', 10:r'\\n', 13:r'\\r', 9:r'\\t', 11:r'\\v'}\n",
    "    return r''.join(i if ord(i) > 32 else raw_map.get(ord(i), i) for i in s)\n",
    "\n",
    "str_to_raw(by_path)\n",
    "\n",
    "\n",
    "# Input SAP file path\n",
    "\n",
    "sap_path=input(\"Enter SAP file path\")\n",
    "sap_path= sap_path[1:len(sap_path)-1]\n",
    "\n",
    "def str_to_raw(s):\n",
    "    raw_map = {8:r'\\b', 7:r'\\a', 12:r'\\f', 10:r'\\n', 13:r'\\r', 9:r'\\t', 11:r'\\v'}\n",
    "    return r''.join(i if ord(i) > 32 else raw_map.get(ord(i), i) for i in s)\n",
    "\n",
    "str_to_raw(sap_path)\n",
    "\n",
    "test_path = by_path.rsplit('\\\\',1)[0]+'\\\\test.xlsx' #To test results\n",
    "\n",
    "\n",
    "# New columns names\n",
    "new_columns_by = {'Generic Item Number':'generic_code_by' , 'Trade Item Number':'trade_code_by' , 'Total Qty':'quantity_by' ,'Lot/Batch':'supplier_batch_by','Location':'location_by','prtnum':'generic_code_by' , 'revlvl':'trade_code_by' , 'untqty(Available)':'available_quantity_by' ,'untqty(Hold)':'hold_quantity_by' ,'lotnum':'supplier_batch_by' }\n",
    "new_columns_s4 = {'Scientific Item':'generic_code_sap' , 'Material':'trade_code_sap' , 'Unrestricted':'quantity_sap' ,'Supplier Batch':'supplier_batch_sap','Batch':'sap_batches'}                                                                                 "
   ]
  },
  {
   "cell_type": "markdown",
   "metadata": {},
   "source": [
    "# *BY Data*"
   ]
  },
  {
   "cell_type": "code",
   "execution_count": 23,
   "metadata": {},
   "outputs": [],
   "source": [
    "df_by=pd.read_excel(by_path)"
   ]
  },
  {
   "cell_type": "code",
   "execution_count": 3,
   "metadata": {},
   "outputs": [
    {
     "data": {
      "text/plain": [
       "Index(['Generic Item Number', 'Trade Item Number', 'Description',\n",
       "       'Customer Item Code', 'Avail Qty', 'Total Qty', 'UOM', 'Lot/Batch',\n",
       "       'Production date', 'BBD', 'Inv Status', 'Custody', 'Location',\n",
       "       'Supplier Name', 'Area Code', 'LPN', 'Hold', 'Warehouse', 'Client'],\n",
       "      dtype='object')"
      ]
     },
     "execution_count": 3,
     "metadata": {},
     "output_type": "execute_result"
    }
   ],
   "source": [
    "df_by.columns"
   ]
  },
  {
   "cell_type": "code",
   "execution_count": 4,
   "metadata": {},
   "outputs": [],
   "source": [
    "df_by = df_by.rename(columns = new_columns_by)\n",
    "\n",
    "if 'quantity_by' not in df_by:\n",
    "    df_by['quantity_by']= df_by['available_quantity_by']+df_by['hold_quantity_by']\n",
    "    \n",
    "# Remove Staged Batches     \n",
    "staged = ['1RSTG001','1RSTG002','1RSTG003','1RSTG004','1RSTG005','1RSTG006','1RSTG007','1RSTG008','1RSTGC','1RSTG','BULK01']   \n",
    "if 'location_by' in df_by: \n",
    "    df_by = df_by[~df_by['location_by'].isin(staged)]"
   ]
  },
  {
   "cell_type": "markdown",
   "metadata": {},
   "source": [
    "## Asessing Data and Cleaning Data"
   ]
  },
  {
   "cell_type": "markdown",
   "metadata": {},
   "source": [
    "#### Remove Leading Zeros From Supplier Batches"
   ]
  },
  {
   "cell_type": "code",
   "execution_count": 21,
   "metadata": {},
   "outputs": [
    {
     "ename": "KeyError",
     "evalue": "'supplier_batch_by'",
     "output_type": "error",
     "traceback": [
      "\u001b[1;31m---------------------------------------------------------------------------\u001b[0m",
      "\u001b[1;31mKeyError\u001b[0m                                  Traceback (most recent call last)",
      "\u001b[1;32m~\\anaconda3\\lib\\site-packages\\pandas\\core\\indexes\\base.py\u001b[0m in \u001b[0;36mget_loc\u001b[1;34m(self, key, method, tolerance)\u001b[0m\n\u001b[0;32m   2894\u001b[0m             \u001b[1;32mtry\u001b[0m\u001b[1;33m:\u001b[0m\u001b[1;33m\u001b[0m\u001b[1;33m\u001b[0m\u001b[0m\n\u001b[1;32m-> 2895\u001b[1;33m                 \u001b[1;32mreturn\u001b[0m \u001b[0mself\u001b[0m\u001b[1;33m.\u001b[0m\u001b[0m_engine\u001b[0m\u001b[1;33m.\u001b[0m\u001b[0mget_loc\u001b[0m\u001b[1;33m(\u001b[0m\u001b[0mcasted_key\u001b[0m\u001b[1;33m)\u001b[0m\u001b[1;33m\u001b[0m\u001b[1;33m\u001b[0m\u001b[0m\n\u001b[0m\u001b[0;32m   2896\u001b[0m             \u001b[1;32mexcept\u001b[0m \u001b[0mKeyError\u001b[0m \u001b[1;32mas\u001b[0m \u001b[0merr\u001b[0m\u001b[1;33m:\u001b[0m\u001b[1;33m\u001b[0m\u001b[1;33m\u001b[0m\u001b[0m\n",
      "\u001b[1;32mpandas\\_libs\\index.pyx\u001b[0m in \u001b[0;36mpandas._libs.index.IndexEngine.get_loc\u001b[1;34m()\u001b[0m\n",
      "\u001b[1;32mpandas\\_libs\\index.pyx\u001b[0m in \u001b[0;36mpandas._libs.index.IndexEngine.get_loc\u001b[1;34m()\u001b[0m\n",
      "\u001b[1;32mpandas\\_libs\\hashtable_class_helper.pxi\u001b[0m in \u001b[0;36mpandas._libs.hashtable.PyObjectHashTable.get_item\u001b[1;34m()\u001b[0m\n",
      "\u001b[1;32mpandas\\_libs\\hashtable_class_helper.pxi\u001b[0m in \u001b[0;36mpandas._libs.hashtable.PyObjectHashTable.get_item\u001b[1;34m()\u001b[0m\n",
      "\u001b[1;31mKeyError\u001b[0m: 'supplier_batch_by'",
      "\nThe above exception was the direct cause of the following exception:\n",
      "\u001b[1;31mKeyError\u001b[0m                                  Traceback (most recent call last)",
      "\u001b[1;32m<ipython-input-21-dacab64d656e>\u001b[0m in \u001b[0;36m<module>\u001b[1;34m\u001b[0m\n\u001b[1;32m----> 1\u001b[1;33m \u001b[0mdf_by\u001b[0m\u001b[1;33m[\u001b[0m\u001b[1;34m'supplier_batch_cleaned_by'\u001b[0m\u001b[1;33m]\u001b[0m\u001b[1;33m=\u001b[0m \u001b[0mdf_by\u001b[0m\u001b[1;33m[\u001b[0m\u001b[1;34m'supplier_batch_by'\u001b[0m\u001b[1;33m]\u001b[0m\u001b[1;33m.\u001b[0m\u001b[0mstr\u001b[0m\u001b[1;33m.\u001b[0m\u001b[0mlstrip\u001b[0m\u001b[1;33m(\u001b[0m\u001b[1;34m'0'\u001b[0m\u001b[1;33m)\u001b[0m\u001b[1;33m\u001b[0m\u001b[1;33m\u001b[0m\u001b[0m\n\u001b[0m",
      "\u001b[1;32m~\\anaconda3\\lib\\site-packages\\pandas\\core\\frame.py\u001b[0m in \u001b[0;36m__getitem__\u001b[1;34m(self, key)\u001b[0m\n\u001b[0;32m   2900\u001b[0m             \u001b[1;32mif\u001b[0m \u001b[0mself\u001b[0m\u001b[1;33m.\u001b[0m\u001b[0mcolumns\u001b[0m\u001b[1;33m.\u001b[0m\u001b[0mnlevels\u001b[0m \u001b[1;33m>\u001b[0m \u001b[1;36m1\u001b[0m\u001b[1;33m:\u001b[0m\u001b[1;33m\u001b[0m\u001b[1;33m\u001b[0m\u001b[0m\n\u001b[0;32m   2901\u001b[0m                 \u001b[1;32mreturn\u001b[0m \u001b[0mself\u001b[0m\u001b[1;33m.\u001b[0m\u001b[0m_getitem_multilevel\u001b[0m\u001b[1;33m(\u001b[0m\u001b[0mkey\u001b[0m\u001b[1;33m)\u001b[0m\u001b[1;33m\u001b[0m\u001b[1;33m\u001b[0m\u001b[0m\n\u001b[1;32m-> 2902\u001b[1;33m             \u001b[0mindexer\u001b[0m \u001b[1;33m=\u001b[0m \u001b[0mself\u001b[0m\u001b[1;33m.\u001b[0m\u001b[0mcolumns\u001b[0m\u001b[1;33m.\u001b[0m\u001b[0mget_loc\u001b[0m\u001b[1;33m(\u001b[0m\u001b[0mkey\u001b[0m\u001b[1;33m)\u001b[0m\u001b[1;33m\u001b[0m\u001b[1;33m\u001b[0m\u001b[0m\n\u001b[0m\u001b[0;32m   2903\u001b[0m             \u001b[1;32mif\u001b[0m \u001b[0mis_integer\u001b[0m\u001b[1;33m(\u001b[0m\u001b[0mindexer\u001b[0m\u001b[1;33m)\u001b[0m\u001b[1;33m:\u001b[0m\u001b[1;33m\u001b[0m\u001b[1;33m\u001b[0m\u001b[0m\n\u001b[0;32m   2904\u001b[0m                 \u001b[0mindexer\u001b[0m \u001b[1;33m=\u001b[0m \u001b[1;33m[\u001b[0m\u001b[0mindexer\u001b[0m\u001b[1;33m]\u001b[0m\u001b[1;33m\u001b[0m\u001b[1;33m\u001b[0m\u001b[0m\n",
      "\u001b[1;32m~\\anaconda3\\lib\\site-packages\\pandas\\core\\indexes\\base.py\u001b[0m in \u001b[0;36mget_loc\u001b[1;34m(self, key, method, tolerance)\u001b[0m\n\u001b[0;32m   2895\u001b[0m                 \u001b[1;32mreturn\u001b[0m \u001b[0mself\u001b[0m\u001b[1;33m.\u001b[0m\u001b[0m_engine\u001b[0m\u001b[1;33m.\u001b[0m\u001b[0mget_loc\u001b[0m\u001b[1;33m(\u001b[0m\u001b[0mcasted_key\u001b[0m\u001b[1;33m)\u001b[0m\u001b[1;33m\u001b[0m\u001b[1;33m\u001b[0m\u001b[0m\n\u001b[0;32m   2896\u001b[0m             \u001b[1;32mexcept\u001b[0m \u001b[0mKeyError\u001b[0m \u001b[1;32mas\u001b[0m \u001b[0merr\u001b[0m\u001b[1;33m:\u001b[0m\u001b[1;33m\u001b[0m\u001b[1;33m\u001b[0m\u001b[0m\n\u001b[1;32m-> 2897\u001b[1;33m                 \u001b[1;32mraise\u001b[0m \u001b[0mKeyError\u001b[0m\u001b[1;33m(\u001b[0m\u001b[0mkey\u001b[0m\u001b[1;33m)\u001b[0m \u001b[1;32mfrom\u001b[0m \u001b[0merr\u001b[0m\u001b[1;33m\u001b[0m\u001b[1;33m\u001b[0m\u001b[0m\n\u001b[0m\u001b[0;32m   2898\u001b[0m \u001b[1;33m\u001b[0m\u001b[0m\n\u001b[0;32m   2899\u001b[0m         \u001b[1;32mif\u001b[0m \u001b[0mtolerance\u001b[0m \u001b[1;32mis\u001b[0m \u001b[1;32mnot\u001b[0m \u001b[1;32mNone\u001b[0m\u001b[1;33m:\u001b[0m\u001b[1;33m\u001b[0m\u001b[1;33m\u001b[0m\u001b[0m\n",
      "\u001b[1;31mKeyError\u001b[0m: 'supplier_batch_by'"
     ]
    }
   ],
   "source": [
    "df_by['supplier_batch_cleaned_by']= df_by['supplier_batch_by'].str.lstrip('0')"
   ]
  },
  {
   "cell_type": "markdown",
   "metadata": {},
   "source": [
    "#### Check Data Types"
   ]
  },
  {
   "cell_type": "code",
   "execution_count": 6,
   "metadata": {},
   "outputs": [
    {
     "data": {
      "text/html": [
       "<div>\n",
       "<style scoped>\n",
       "    .dataframe tbody tr th:only-of-type {\n",
       "        vertical-align: middle;\n",
       "    }\n",
       "\n",
       "    .dataframe tbody tr th {\n",
       "        vertical-align: top;\n",
       "    }\n",
       "\n",
       "    .dataframe thead th {\n",
       "        text-align: right;\n",
       "    }\n",
       "</style>\n",
       "<table border=\"1\" class=\"dataframe\">\n",
       "  <thead>\n",
       "    <tr style=\"text-align: right;\">\n",
       "      <th></th>\n",
       "      <th>generic_code_by</th>\n",
       "      <th>trade_code_by</th>\n",
       "      <th>Description</th>\n",
       "      <th>Customer Item Code</th>\n",
       "      <th>Avail Qty</th>\n",
       "      <th>quantity_by</th>\n",
       "      <th>UOM</th>\n",
       "      <th>supplier_batch_by</th>\n",
       "      <th>Production date</th>\n",
       "      <th>BBD</th>\n",
       "      <th>Inv Status</th>\n",
       "      <th>Custody</th>\n",
       "      <th>location_by</th>\n",
       "      <th>Supplier Name</th>\n",
       "      <th>Area Code</th>\n",
       "      <th>LPN</th>\n",
       "      <th>Hold</th>\n",
       "      <th>Warehouse</th>\n",
       "      <th>Client</th>\n",
       "      <th>supplier_batch_cleaned_by</th>\n",
       "    </tr>\n",
       "  </thead>\n",
       "  <tbody>\n",
       "    <tr>\n",
       "      <th>0</th>\n",
       "      <td>4213150400200</td>\n",
       "      <td>4213150400203</td>\n",
       "      <td>DISPOSABLE COVERALL L QINGDAO ZHAOMING</td>\n",
       "      <td>137400128</td>\n",
       "      <td>540.0</td>\n",
       "      <td>540.0</td>\n",
       "      <td>EA</td>\n",
       "      <td>GF-5L3</td>\n",
       "      <td>2020-09-30</td>\n",
       "      <td>2025-08-30</td>\n",
       "      <td>Available</td>\n",
       "      <td>Hospital Supplies B</td>\n",
       "      <td>901048023204</td>\n",
       "      <td>NaN</td>\n",
       "      <td>1PALR</td>\n",
       "      <td>910006659073</td>\n",
       "      <td>NO</td>\n",
       "      <td>W100</td>\n",
       "      <td>MOH</td>\n",
       "      <td>GF-5L3</td>\n",
       "    </tr>\n",
       "    <tr>\n",
       "      <th>1</th>\n",
       "      <td>4213150400200</td>\n",
       "      <td>4213150400203</td>\n",
       "      <td>DISPOSABLE COVERALL L QINGDAO ZHAOMING</td>\n",
       "      <td>137400128</td>\n",
       "      <td>540.0</td>\n",
       "      <td>540.0</td>\n",
       "      <td>EA</td>\n",
       "      <td>GF-5L3</td>\n",
       "      <td>2020-09-30</td>\n",
       "      <td>2025-08-30</td>\n",
       "      <td>Available</td>\n",
       "      <td>Hospital Supplies B</td>\n",
       "      <td>901048090404</td>\n",
       "      <td>NaN</td>\n",
       "      <td>1PALR</td>\n",
       "      <td>910006659097</td>\n",
       "      <td>NO</td>\n",
       "      <td>W100</td>\n",
       "      <td>MOH</td>\n",
       "      <td>GF-5L3</td>\n",
       "    </tr>\n",
       "    <tr>\n",
       "      <th>2</th>\n",
       "      <td>4213150400200</td>\n",
       "      <td>4213150400203</td>\n",
       "      <td>DISPOSABLE COVERALL L QINGDAO ZHAOMING</td>\n",
       "      <td>137400128</td>\n",
       "      <td>180.0</td>\n",
       "      <td>180.0</td>\n",
       "      <td>EA</td>\n",
       "      <td>AMA-04RL</td>\n",
       "      <td>2020-09-30</td>\n",
       "      <td>2025-08-30</td>\n",
       "      <td>Available</td>\n",
       "      <td>Hospital Supplies B</td>\n",
       "      <td>901049016205</td>\n",
       "      <td>NaN</td>\n",
       "      <td>1PALR</td>\n",
       "      <td>910006659431</td>\n",
       "      <td>NO</td>\n",
       "      <td>W100</td>\n",
       "      <td>MOH</td>\n",
       "      <td>AMA-04RL</td>\n",
       "    </tr>\n",
       "    <tr>\n",
       "      <th>3</th>\n",
       "      <td>4213150400200</td>\n",
       "      <td>4213150400203</td>\n",
       "      <td>DISPOSABLE COVERALL L QINGDAO ZHAOMING</td>\n",
       "      <td>137400128</td>\n",
       "      <td>540.0</td>\n",
       "      <td>540.0</td>\n",
       "      <td>EA</td>\n",
       "      <td>IDEPL</td>\n",
       "      <td>2020-09-30</td>\n",
       "      <td>2025-08-30</td>\n",
       "      <td>Available</td>\n",
       "      <td>Hospital Supplies B</td>\n",
       "      <td>901053070408</td>\n",
       "      <td>NaN</td>\n",
       "      <td>1PALR</td>\n",
       "      <td>910006659264</td>\n",
       "      <td>NO</td>\n",
       "      <td>W100</td>\n",
       "      <td>MOH</td>\n",
       "      <td>IDEPL</td>\n",
       "    </tr>\n",
       "    <tr>\n",
       "      <th>4</th>\n",
       "      <td>4213150400200</td>\n",
       "      <td>4213150400203</td>\n",
       "      <td>DISPOSABLE COVERALL L QINGDAO ZHAOMING</td>\n",
       "      <td>137400128</td>\n",
       "      <td>540.0</td>\n",
       "      <td>540.0</td>\n",
       "      <td>EA</td>\n",
       "      <td>IDEPL</td>\n",
       "      <td>2020-09-30</td>\n",
       "      <td>2025-08-30</td>\n",
       "      <td>Available</td>\n",
       "      <td>Hospital Supplies B</td>\n",
       "      <td>901053097306</td>\n",
       "      <td>NaN</td>\n",
       "      <td>1PALR</td>\n",
       "      <td>910006659394</td>\n",
       "      <td>NO</td>\n",
       "      <td>W100</td>\n",
       "      <td>MOH</td>\n",
       "      <td>IDEPL</td>\n",
       "    </tr>\n",
       "  </tbody>\n",
       "</table>\n",
       "</div>"
      ],
      "text/plain": [
       "  generic_code_by  trade_code_by                             Description  \\\n",
       "0   4213150400200  4213150400203  DISPOSABLE COVERALL L QINGDAO ZHAOMING   \n",
       "1   4213150400200  4213150400203  DISPOSABLE COVERALL L QINGDAO ZHAOMING   \n",
       "2   4213150400200  4213150400203  DISPOSABLE COVERALL L QINGDAO ZHAOMING   \n",
       "3   4213150400200  4213150400203  DISPOSABLE COVERALL L QINGDAO ZHAOMING   \n",
       "4   4213150400200  4213150400203  DISPOSABLE COVERALL L QINGDAO ZHAOMING   \n",
       "\n",
       "  Customer Item Code  Avail Qty  quantity_by UOM supplier_batch_by  \\\n",
       "0          137400128      540.0        540.0  EA            GF-5L3   \n",
       "1          137400128      540.0        540.0  EA            GF-5L3   \n",
       "2          137400128      180.0        180.0  EA          AMA-04RL   \n",
       "3          137400128      540.0        540.0  EA             IDEPL   \n",
       "4          137400128      540.0        540.0  EA             IDEPL   \n",
       "\n",
       "  Production date         BBD Inv Status              Custody   location_by  \\\n",
       "0      2020-09-30  2025-08-30  Available  Hospital Supplies B  901048023204   \n",
       "1      2020-09-30  2025-08-30  Available  Hospital Supplies B  901048090404   \n",
       "2      2020-09-30  2025-08-30  Available  Hospital Supplies B  901049016205   \n",
       "3      2020-09-30  2025-08-30  Available  Hospital Supplies B  901053070408   \n",
       "4      2020-09-30  2025-08-30  Available  Hospital Supplies B  901053097306   \n",
       "\n",
       "  Supplier Name Area Code           LPN Hold Warehouse Client  \\\n",
       "0           NaN     1PALR  910006659073   NO      W100    MOH   \n",
       "1           NaN     1PALR  910006659097   NO      W100    MOH   \n",
       "2           NaN     1PALR  910006659431   NO      W100    MOH   \n",
       "3           NaN     1PALR  910006659264   NO      W100    MOH   \n",
       "4           NaN     1PALR  910006659394   NO      W100    MOH   \n",
       "\n",
       "  supplier_batch_cleaned_by  \n",
       "0                    GF-5L3  \n",
       "1                    GF-5L3  \n",
       "2                  AMA-04RL  \n",
       "3                     IDEPL  \n",
       "4                     IDEPL  "
      ]
     },
     "execution_count": 6,
     "metadata": {},
     "output_type": "execute_result"
    }
   ],
   "source": [
    "# Remove null before converting to integer\n",
    "by_null = df_by[df_by['supplier_batch_cleaned_by'].isna()]\n",
    "df_by= df_by[df_by['supplier_batch_cleaned_by'].notnull()]\n",
    "\n",
    "df_by['generic_code_by'] = df_by['generic_code_by'].apply(int).astype(str)\n",
    "df_by['trade_code_by'] = df_by['trade_code_by'].apply(int).astype(str)\n",
    "df_by.head()"
   ]
  },
  {
   "cell_type": "markdown",
   "metadata": {},
   "source": [
    "## Calculations"
   ]
  },
  {
   "cell_type": "code",
   "execution_count": 7,
   "metadata": {},
   "outputs": [],
   "source": [
    "by_tableau=df_by.groupby(['generic_code_by','trade_code_by', 'supplier_batch_cleaned_by','supplier_batch_by'], as_index=False).sum()"
   ]
  },
  {
   "cell_type": "markdown",
   "metadata": {},
   "source": [
    "#### Deal With Duplicated cleaned_batch/batch"
   ]
  },
  {
   "cell_type": "code",
   "execution_count": 8,
   "metadata": {},
   "outputs": [
    {
     "name": "stderr",
     "output_type": "stream",
     "text": [
      "<ipython-input-8-04c668e61ba7>:2: SettingWithCopyWarning: \n",
      "A value is trying to be set on a copy of a slice from a DataFrame.\n",
      "Try using .loc[row_indexer,col_indexer] = value instead\n",
      "\n",
      "See the caveats in the documentation: https://pandas.pydata.org/pandas-docs/stable/user_guide/indexing.html#returning-a-view-versus-a-copy\n",
      "  df_by_dup['supplier_batch_cleaned_by'] =df_by_dup['supplier_batch_by']\n"
     ]
    }
   ],
   "source": [
    "df_by_dup = by_tableau[by_tableau.duplicated(['supplier_batch_cleaned_by','trade_code_by'],keep=False)]\n",
    "df_by_dup['supplier_batch_cleaned_by'] =df_by_dup['supplier_batch_by'] \n",
    "\n",
    "by_tableau = by_tableau.drop_duplicates(['supplier_batch_cleaned_by','trade_code_by'],keep=False)\n",
    "by_tableau=pd.concat([by_tableau,df_by_dup],axis=0)"
   ]
  },
  {
   "cell_type": "markdown",
   "metadata": {},
   "source": [
    "## Export BY File"
   ]
  },
  {
   "cell_type": "code",
   "execution_count": 9,
   "metadata": {},
   "outputs": [],
   "source": [
    "null_by_path = by_path.rsplit('\\\\',1)[0]+'\\\\null_by.xlsx'\n",
    "tableau_path = by_path.rsplit('\\\\',1)[0]+'\\\\tableau_by.xlsx'\n",
    "\n",
    "by_null.to_excel(null_by_path)\n",
    "by_tableau.to_excel(tableau_path)"
   ]
  },
  {
   "cell_type": "markdown",
   "metadata": {},
   "source": [
    "# *S4 SAP*"
   ]
  },
  {
   "cell_type": "code",
   "execution_count": 10,
   "metadata": {},
   "outputs": [],
   "source": [
    "df_sap = pd.read_excel(sap_path)"
   ]
  },
  {
   "cell_type": "code",
   "execution_count": 11,
   "metadata": {},
   "outputs": [
    {
     "data": {
      "text/plain": [
       "Index(['Customer Material Number', 'Several Customer Codes',\n",
       "       'Old material no.', 'Scientific Item', 'Material', 'Material Number',\n",
       "       'Plnt', 'Customer (GA)', 'SLoc', 'Batch', 'Supplier Batch', 'Cont./PO',\n",
       "       'Several Supplier Batches', 'Manuf. Dte', 'SLED/BBD', 'Unrestricted',\n",
       "       'BUn'],\n",
       "      dtype='object')"
      ]
     },
     "execution_count": 11,
     "metadata": {},
     "output_type": "execute_result"
    }
   ],
   "source": [
    "df_sap.columns"
   ]
  },
  {
   "cell_type": "code",
   "execution_count": 12,
   "metadata": {},
   "outputs": [
    {
     "data": {
      "text/html": [
       "<div>\n",
       "<style scoped>\n",
       "    .dataframe tbody tr th:only-of-type {\n",
       "        vertical-align: middle;\n",
       "    }\n",
       "\n",
       "    .dataframe tbody tr th {\n",
       "        vertical-align: top;\n",
       "    }\n",
       "\n",
       "    .dataframe thead th {\n",
       "        text-align: right;\n",
       "    }\n",
       "</style>\n",
       "<table border=\"1\" class=\"dataframe\">\n",
       "  <thead>\n",
       "    <tr style=\"text-align: right;\">\n",
       "      <th></th>\n",
       "      <th>Customer Material Number</th>\n",
       "      <th>Several Customer Codes</th>\n",
       "      <th>Old material no.</th>\n",
       "      <th>generic_code_sap</th>\n",
       "      <th>trade_code_sap</th>\n",
       "      <th>Material Number</th>\n",
       "      <th>Plnt</th>\n",
       "      <th>Customer (GA)</th>\n",
       "      <th>SLoc</th>\n",
       "      <th>sap_batches</th>\n",
       "      <th>supplier_batch_sap</th>\n",
       "      <th>Cont./PO</th>\n",
       "      <th>Several Supplier Batches</th>\n",
       "      <th>Manuf. Dte</th>\n",
       "      <th>SLED/BBD</th>\n",
       "      <th>quantity_sap</th>\n",
       "      <th>BUn</th>\n",
       "    </tr>\n",
       "  </thead>\n",
       "  <tbody>\n",
       "    <tr>\n",
       "      <th>0</th>\n",
       "      <td>133060467</td>\n",
       "      <td>NaN</td>\n",
       "      <td>NaN</td>\n",
       "      <td>4.713150e+12</td>\n",
       "      <td>4.713150e+12</td>\n",
       "      <td>WIPE DISINFECTANT S625110MPCE PAL INTER</td>\n",
       "      <td>W2C1</td>\n",
       "      <td>120000.0</td>\n",
       "      <td>1000.0</td>\n",
       "      <td>2019/9130</td>\n",
       "      <td>2019/9130</td>\n",
       "      <td>5000000322</td>\n",
       "      <td>NaN</td>\n",
       "      <td>2021-04-01 00:00:00</td>\n",
       "      <td>2023-12-31 00:00:00</td>\n",
       "      <td>15400.0</td>\n",
       "      <td>EA</td>\n",
       "    </tr>\n",
       "    <tr>\n",
       "      <th>1</th>\n",
       "      <td>133060467</td>\n",
       "      <td>NaN</td>\n",
       "      <td>NaN</td>\n",
       "      <td>4.713150e+12</td>\n",
       "      <td>4.713150e+12</td>\n",
       "      <td>WIPE DISINFECTANT S625110MPCE PAL INTER</td>\n",
       "      <td>W2C1</td>\n",
       "      <td>120000.0</td>\n",
       "      <td>1000.0</td>\n",
       "      <td>21189145</td>\n",
       "      <td>21189145</td>\n",
       "      <td>5000000587</td>\n",
       "      <td>NaN</td>\n",
       "      <td>2021-07-17 00:00:00</td>\n",
       "      <td>2024-01-31 00:00:00</td>\n",
       "      <td>1200.0</td>\n",
       "      <td>EA</td>\n",
       "    </tr>\n",
       "    <tr>\n",
       "      <th>2</th>\n",
       "      <td>133060467</td>\n",
       "      <td>NaN</td>\n",
       "      <td>NaN</td>\n",
       "      <td>4.713150e+12</td>\n",
       "      <td>4.713150e+12</td>\n",
       "      <td>WIPE DISINFECTANT S625110MPCE PAL INTER</td>\n",
       "      <td>W2C1</td>\n",
       "      <td>120000.0</td>\n",
       "      <td>1000.0</td>\n",
       "      <td>21219145</td>\n",
       "      <td>21219145</td>\n",
       "      <td>5000000587</td>\n",
       "      <td>NaN</td>\n",
       "      <td>2021-07-17 00:00:00</td>\n",
       "      <td>2024-01-31 00:00:00</td>\n",
       "      <td>20400.0</td>\n",
       "      <td>EA</td>\n",
       "    </tr>\n",
       "    <tr>\n",
       "      <th>3</th>\n",
       "      <td>128290116</td>\n",
       "      <td>NaN</td>\n",
       "      <td>6.020302e+12</td>\n",
       "      <td>4.213161e+12</td>\n",
       "      <td>4.213161e+12</td>\n",
       "      <td>DAM SAFE FACE MASK 874421/9 NATIONAL MED</td>\n",
       "      <td>W2C1</td>\n",
       "      <td>120000.0</td>\n",
       "      <td>1000.0</td>\n",
       "      <td>300010M04</td>\n",
       "      <td>300010M04</td>\n",
       "      <td>COBFREE</td>\n",
       "      <td>NaN</td>\n",
       "      <td>2020-10-01 00:00:00</td>\n",
       "      <td>2025-09-30 00:00:00</td>\n",
       "      <td>38500.0</td>\n",
       "      <td>EA</td>\n",
       "    </tr>\n",
       "    <tr>\n",
       "      <th>4</th>\n",
       "      <td>128290116</td>\n",
       "      <td>NaN</td>\n",
       "      <td>6.020302e+12</td>\n",
       "      <td>4.213161e+12</td>\n",
       "      <td>4.213161e+12</td>\n",
       "      <td>DAM SAFE FACE MASK 874421/9 NATIONAL MED</td>\n",
       "      <td>W2C1</td>\n",
       "      <td>120000.0</td>\n",
       "      <td>1000.0</td>\n",
       "      <td>300010M105</td>\n",
       "      <td>300010M105</td>\n",
       "      <td>COBFREE</td>\n",
       "      <td>NaN</td>\n",
       "      <td>2020-10-01 00:00:00</td>\n",
       "      <td>2025-09-30 00:00:00</td>\n",
       "      <td>3200.0</td>\n",
       "      <td>EA</td>\n",
       "    </tr>\n",
       "  </tbody>\n",
       "</table>\n",
       "</div>"
      ],
      "text/plain": [
       "  Customer Material Number Several Customer Codes  Old material no.  \\\n",
       "0                133060467                    NaN               NaN   \n",
       "1                133060467                    NaN               NaN   \n",
       "2                133060467                    NaN               NaN   \n",
       "3                128290116                    NaN      6.020302e+12   \n",
       "4                128290116                    NaN      6.020302e+12   \n",
       "\n",
       "   generic_code_sap  trade_code_sap                           Material Number  \\\n",
       "0      4.713150e+12    4.713150e+12   WIPE DISINFECTANT S625110MPCE PAL INTER   \n",
       "1      4.713150e+12    4.713150e+12   WIPE DISINFECTANT S625110MPCE PAL INTER   \n",
       "2      4.713150e+12    4.713150e+12   WIPE DISINFECTANT S625110MPCE PAL INTER   \n",
       "3      4.213161e+12    4.213161e+12  DAM SAFE FACE MASK 874421/9 NATIONAL MED   \n",
       "4      4.213161e+12    4.213161e+12  DAM SAFE FACE MASK 874421/9 NATIONAL MED   \n",
       "\n",
       "   Plnt  Customer (GA)    SLoc sap_batches supplier_batch_sap    Cont./PO  \\\n",
       "0  W2C1       120000.0  1000.0   2019/9130          2019/9130  5000000322   \n",
       "1  W2C1       120000.0  1000.0    21189145           21189145  5000000587   \n",
       "2  W2C1       120000.0  1000.0    21219145           21219145  5000000587   \n",
       "3  W2C1       120000.0  1000.0   300010M04          300010M04     COBFREE   \n",
       "4  W2C1       120000.0  1000.0  300010M105         300010M105     COBFREE   \n",
       "\n",
       "  Several Supplier Batches           Manuf. Dte             SLED/BBD  \\\n",
       "0                      NaN  2021-04-01 00:00:00  2023-12-31 00:00:00   \n",
       "1                      NaN  2021-07-17 00:00:00  2024-01-31 00:00:00   \n",
       "2                      NaN  2021-07-17 00:00:00  2024-01-31 00:00:00   \n",
       "3                      NaN  2020-10-01 00:00:00  2025-09-30 00:00:00   \n",
       "4                      NaN  2020-10-01 00:00:00  2025-09-30 00:00:00   \n",
       "\n",
       "   quantity_sap BUn  \n",
       "0       15400.0  EA  \n",
       "1        1200.0  EA  \n",
       "2       20400.0  EA  \n",
       "3       38500.0  EA  \n",
       "4        3200.0  EA  "
      ]
     },
     "execution_count": 12,
     "metadata": {},
     "output_type": "execute_result"
    }
   ],
   "source": [
    "df_sap = df_sap.rename(columns = new_columns_s4 )\n",
    "df_sap.head()"
   ]
  },
  {
   "cell_type": "markdown",
   "metadata": {},
   "source": [
    "## Asessing and Cleaning"
   ]
  },
  {
   "cell_type": "markdown",
   "metadata": {},
   "source": [
    "#### Remove Leading Zeros from Supplier Batches"
   ]
  },
  {
   "cell_type": "code",
   "execution_count": 13,
   "metadata": {},
   "outputs": [],
   "source": [
    "df_sap['supplier_batch_cleaned_sap'] = df_sap['supplier_batch_sap'].str.lstrip('0')"
   ]
  },
  {
   "cell_type": "markdown",
   "metadata": {},
   "source": [
    "#### Change Data Types"
   ]
  },
  {
   "cell_type": "code",
   "execution_count": 14,
   "metadata": {},
   "outputs": [
    {
     "name": "stdout",
     "output_type": "stream",
     "text": [
      "<class 'pandas.core.frame.DataFrame'>\n",
      "Int64Index: 28203 entries, 0 to 28340\n",
      "Data columns (total 18 columns):\n",
      " #   Column                      Non-Null Count  Dtype  \n",
      "---  ------                      --------------  -----  \n",
      " 0   Customer Material Number    27631 non-null  object \n",
      " 1   Several Customer Codes      28042 non-null  object \n",
      " 2   Old material no.            6817 non-null   float64\n",
      " 3   generic_code_sap            28203 non-null  object \n",
      " 4   trade_code_sap              28203 non-null  object \n",
      " 5   Material Number             28203 non-null  object \n",
      " 6   Plnt                        28203 non-null  object \n",
      " 7   Customer (GA)               28203 non-null  float64\n",
      " 8   SLoc                        28203 non-null  float64\n",
      " 9   sap_batches                 28201 non-null  object \n",
      " 10  supplier_batch_sap          28203 non-null  object \n",
      " 11  Cont./PO                    28165 non-null  object \n",
      " 12  Several Supplier Batches    4028 non-null   object \n",
      " 13  Manuf. Dte                  22933 non-null  object \n",
      " 14  SLED/BBD                    28203 non-null  object \n",
      " 15  quantity_sap                28203 non-null  float64\n",
      " 16  BUn                         28203 non-null  object \n",
      " 17  supplier_batch_cleaned_sap  28203 non-null  object \n",
      "dtypes: float64(4), object(14)\n",
      "memory usage: 4.1+ MB\n"
     ]
    }
   ],
   "source": [
    "# Remove null before converting to integer\n",
    "sap_null = df_sap[df_sap['supplier_batch_cleaned_sap'].isna()]\n",
    "df_sap= df_sap[df_sap['supplier_batch_cleaned_sap'].notnull()]\n",
    "\n",
    "df_sap['generic_code_sap'] = df_sap['generic_code_sap'].apply(int).astype(str)\n",
    "df_sap['trade_code_sap'] = df_sap['trade_code_sap'].apply(int).astype(str)\n",
    "df_sap.info()"
   ]
  },
  {
   "cell_type": "markdown",
   "metadata": {},
   "source": [
    "## Calculations"
   ]
  },
  {
   "cell_type": "code",
   "execution_count": 15,
   "metadata": {},
   "outputs": [],
   "source": [
    "sap_tableau=df_sap.groupby(['generic_code_sap','trade_code_sap','supplier_batch_cleaned_sap','supplier_batch_sap'], as_index=False).agg({\n",
    "                          'sap_batches' : lambda x: \"[%s]\" % ', '.join(x.astype(str)), 'quantity_sap' : ['sum']})\n",
    "\n",
    "sap_tableau.columns = sap_tableau.columns.droplevel(0)\n",
    "sap_tableau.columns= ['generic_code_sap','trade_code_sap','supplier_batch_cleaned_sap','supplier_batch_sap','sap_batches','quantity_sap']"
   ]
  },
  {
   "cell_type": "code",
   "execution_count": 16,
   "metadata": {},
   "outputs": [
    {
     "data": {
      "text/html": [
       "<div>\n",
       "<style scoped>\n",
       "    .dataframe tbody tr th:only-of-type {\n",
       "        vertical-align: middle;\n",
       "    }\n",
       "\n",
       "    .dataframe tbody tr th {\n",
       "        vertical-align: top;\n",
       "    }\n",
       "\n",
       "    .dataframe thead th {\n",
       "        text-align: right;\n",
       "    }\n",
       "</style>\n",
       "<table border=\"1\" class=\"dataframe\">\n",
       "  <thead>\n",
       "    <tr style=\"text-align: right;\">\n",
       "      <th></th>\n",
       "      <th>generic_code_sap</th>\n",
       "      <th>trade_code_sap</th>\n",
       "      <th>supplier_batch_cleaned_sap</th>\n",
       "      <th>supplier_batch_sap</th>\n",
       "      <th>sap_batches</th>\n",
       "      <th>quantity_sap</th>\n",
       "    </tr>\n",
       "  </thead>\n",
       "  <tbody>\n",
       "    <tr>\n",
       "      <th>0</th>\n",
       "      <td>4010151200000</td>\n",
       "      <td>4010151200001</td>\n",
       "      <td>219854701</td>\n",
       "      <td>219854701</td>\n",
       "      <td>[219854701]</td>\n",
       "      <td>0.0</td>\n",
       "    </tr>\n",
       "    <tr>\n",
       "      <th>1</th>\n",
       "      <td>4010151200000</td>\n",
       "      <td>4010151200002</td>\n",
       "      <td>219175707</td>\n",
       "      <td>0219175707</td>\n",
       "      <td>[0219175707]</td>\n",
       "      <td>5.0</td>\n",
       "    </tr>\n",
       "    <tr>\n",
       "      <th>2</th>\n",
       "      <td>4110291700000</td>\n",
       "      <td>4110291700002</td>\n",
       "      <td>9G2973</td>\n",
       "      <td>9G2973</td>\n",
       "      <td>[0000010307]</td>\n",
       "      <td>2100.0</td>\n",
       "    </tr>\n",
       "    <tr>\n",
       "      <th>3</th>\n",
       "      <td>4110291700000</td>\n",
       "      <td>4110291700002</td>\n",
       "      <td>OB0693</td>\n",
       "      <td>OB0693</td>\n",
       "      <td>[OB0693]</td>\n",
       "      <td>500.0</td>\n",
       "    </tr>\n",
       "    <tr>\n",
       "      <th>4</th>\n",
       "      <td>4110291700000</td>\n",
       "      <td>4110291700002</td>\n",
       "      <td>OD1384</td>\n",
       "      <td>OD1384</td>\n",
       "      <td>[0002339150]</td>\n",
       "      <td>0.0</td>\n",
       "    </tr>\n",
       "  </tbody>\n",
       "</table>\n",
       "</div>"
      ],
      "text/plain": [
       "  generic_code_sap trade_code_sap supplier_batch_cleaned_sap  \\\n",
       "0    4010151200000  4010151200001                  219854701   \n",
       "1    4010151200000  4010151200002                  219175707   \n",
       "2    4110291700000  4110291700002                     9G2973   \n",
       "3    4110291700000  4110291700002                     OB0693   \n",
       "4    4110291700000  4110291700002                     OD1384   \n",
       "\n",
       "  supplier_batch_sap   sap_batches  quantity_sap  \n",
       "0          219854701   [219854701]           0.0  \n",
       "1         0219175707  [0219175707]           5.0  \n",
       "2             9G2973  [0000010307]        2100.0  \n",
       "3             OB0693      [OB0693]         500.0  \n",
       "4             OD1384  [0002339150]           0.0  "
      ]
     },
     "execution_count": 16,
     "metadata": {},
     "output_type": "execute_result"
    }
   ],
   "source": [
    "sap_tableau.head()"
   ]
  },
  {
   "cell_type": "markdown",
   "metadata": {},
   "source": [
    "#### Deal with Duplicated cleaned_batch/batch duplicate"
   ]
  },
  {
   "cell_type": "code",
   "execution_count": 17,
   "metadata": {},
   "outputs": [
    {
     "name": "stderr",
     "output_type": "stream",
     "text": [
      "<ipython-input-17-d2d559324e04>:3: SettingWithCopyWarning: \n",
      "A value is trying to be set on a copy of a slice from a DataFrame.\n",
      "Try using .loc[row_indexer,col_indexer] = value instead\n",
      "\n",
      "See the caveats in the documentation: https://pandas.pydata.org/pandas-docs/stable/user_guide/indexing.html#returning-a-view-versus-a-copy\n",
      "  df_sap_dup['supplier_batch_cleaned_sap'] =df_sap_dup['supplier_batch_sap']\n"
     ]
    }
   ],
   "source": [
    "df_sap_dup = sap_tableau[sap_tableau.duplicated(['supplier_batch_cleaned_sap','trade_code_sap'],keep=False)]\n",
    "\n",
    "df_sap_dup['supplier_batch_cleaned_sap'] =df_sap_dup['supplier_batch_sap'] \n",
    "\n",
    "sap_tableau = sap_tableau.drop_duplicates(['supplier_batch_cleaned_sap','trade_code_sap'],keep=False)\n",
    "sap_tableau=pd.concat([sap_tableau,df_sap_dup],axis=0)"
   ]
  },
  {
   "cell_type": "markdown",
   "metadata": {},
   "source": [
    "## Export SAP Files"
   ]
  },
  {
   "cell_type": "code",
   "execution_count": 18,
   "metadata": {},
   "outputs": [],
   "source": [
    "sap_tableau.to_excel(r\"C:\\Users\\osama\\Documents\\nupco\\stock adjustment\\sap_grouped.xls\")\n",
    "df_sap_dup.to_excel(r\"C:\\Users\\osama\\Documents\\nupco\\stock adjustment\\sap_duplicates.xls\")"
   ]
  },
  {
   "cell_type": "code",
   "execution_count": 19,
   "metadata": {},
   "outputs": [],
   "source": [
    "null_sap_path = by_path.rsplit('\\\\',1)[0]+'\\\\null_sap.xlsx'\n",
    "tableau_path = by_path.rsplit('\\\\',1)[0]+'\\\\tableau_sap.xlsx'\n",
    "\n",
    "by_null.to_excel(null_sap_path)\n",
    "sap_tableau.to_excel(tableau_path)"
   ]
  }
 ],
 "metadata": {
  "kernelspec": {
   "display_name": "Python 3",
   "language": "python",
   "name": "python3"
  },
  "language_info": {
   "codemirror_mode": {
    "name": "ipython",
    "version": 3
   },
   "file_extension": ".py",
   "mimetype": "text/x-python",
   "name": "python",
   "nbconvert_exporter": "python",
   "pygments_lexer": "ipython3",
   "version": "3.8.5"
  }
 },
 "nbformat": 4,
 "nbformat_minor": 4
}
