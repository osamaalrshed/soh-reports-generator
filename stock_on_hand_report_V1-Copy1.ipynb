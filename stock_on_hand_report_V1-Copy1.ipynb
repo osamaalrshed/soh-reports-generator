{
 "cells": [
  {
   "cell_type": "markdown",
   "metadata": {},
   "source": [
    "# Input files pathes"
   ]
  },
  {
   "cell_type": "code",
   "execution_count": null,
   "metadata": {},
   "outputs": [],
   "source": [
    "import pandas as pd\n",
    "\n",
    "#Input Files Pathes\n",
    "by_path=input(\"Enter BY file path\")\n",
    "by_path= by_path[1:len(by_path)-1]\n",
    "\n",
    "\n",
    "def str_to_raw(s):\n",
    "    raw_map = {8:r'\\b', 7:r'\\a', 12:r'\\f', 10:r'\\n', 13:r'\\r', 9:r'\\t', 11:r'\\v'}\n",
    "    return r''.join(i if ord(i) > 32 else raw_map.get(ord(i), i) for i in s)\n",
    "\n",
    "str_to_raw(by_path)\n",
    "\n",
    "\n",
    "# Input SAP file path\n",
    "\n",
    "sap_path=input(\"Enter SAP file path\")\n",
    "sap_path= sap_path[1:len(sap_path)-1]\n",
    "\n",
    "def str_to_raw(s):\n",
    "    raw_map = {8:r'\\b', 7:r'\\a', 12:r'\\f', 10:r'\\n', 13:r'\\r', 9:r'\\t', 11:r'\\v'}\n",
    "    return r''.join(i if ord(i) > 32 else raw_map.get(ord(i), i) for i in s)\n",
    "\n",
    "str_to_raw(sap_path)\n",
    "\n",
    "test_path = by_path.rsplit('\\\\',1)[0]+'\\\\test.xlsx' #To test results\n",
    "\n",
    "\n",
    "# New columns names\n",
    "new_columns_by = {'Generic Item Number':'generic_code_by' , 'Trade Item Number':'trade_code_by' , 'Total Qty':'quantity_by' ,'Lot/Batch':'supplier_batch_by','Location':'location_by','prtnum':'generic_code_by' , 'revlvl':'trade_code_by' , 'untqty(Available)':'available_quantity_by' ,'untqty(Hold)':'hold_quantity_by' ,'lotnum':'supplier_batch_by' }\n",
    "new_columns_s4 = {'Scientific Item':'generic_code_sap' , 'Material':'trade_code_sap' , 'Unrestricted':'quantity_sap' ,'Supplier Batch':'supplier_batch_sap','Batch':'sap_batches'}                                                                                 "
   ]
  },
  {
   "cell_type": "markdown",
   "metadata": {},
   "source": [
    "# *BY Data*"
   ]
  },
  {
   "cell_type": "code",
   "execution_count": 2,
   "metadata": {},
   "outputs": [],
   "source": [
    "df_by=pd.read_excel(by_path)"
   ]
  },
  {
   "cell_type": "code",
   "execution_count": 3,
   "metadata": {},
   "outputs": [
    {
     "data": {
      "text/plain": [
       "Index(['Unnamed: 0', 'wh_id', 'prt_client_id', 'prtnum', 'revlvl', 'ftpcod',\n",
       "       'inv_attr_str2', 'untqty(Available)', 'untqty(Hold)', 'status',\n",
       "       'dstloc', 'dstlod', 'lotnum', 'mandte', 'expire_dte', 'Rcpt Dt'],\n",
       "      dtype='object')"
      ]
     },
     "execution_count": 3,
     "metadata": {},
     "output_type": "execute_result"
    }
   ],
   "source": [
    "df_by.columns"
   ]
  },
  {
   "cell_type": "code",
   "execution_count": 4,
   "metadata": {},
   "outputs": [],
   "source": [
    "df_by = df_by.rename(columns = new_columns_by)\n",
    "\n",
    "if 'quantity_by' not in df_by:\n",
    "    df_by['quantity_by']= df_by['available_quantity_by']+df_by['hold_quantity_by']\n",
    "    \n",
    "# Remove Staged Batches     \n",
    "staged = ['1RSTG001','1RSTG002','1RSTG003','1RSTG004','1RSTG005','1RSTG006','1RSTG007','1RSTG008','1RSTGC','1RSTG','BULK01']   \n",
    "if 'location_by' in df_by: \n",
    "    df_by = df_by[~df_by['location_by'].isin(staged)]"
   ]
  },
  {
   "cell_type": "markdown",
   "metadata": {},
   "source": [
    "## Asessing Data and Cleaning Data"
   ]
  },
  {
   "cell_type": "markdown",
   "metadata": {},
   "source": [
    "#### Remove Leading Zeros From Supplier Batches"
   ]
  },
  {
   "cell_type": "code",
   "execution_count": 5,
   "metadata": {},
   "outputs": [],
   "source": [
    "df_by['supplier_batch_cleaned_by']= df_by['supplier_batch_by'].str.lstrip('0')"
   ]
  },
  {
   "cell_type": "markdown",
   "metadata": {},
   "source": [
    "#### Check Data Types"
   ]
  },
  {
   "cell_type": "code",
   "execution_count": 6,
   "metadata": {},
   "outputs": [
    {
     "data": {
      "text/html": [
       "<div>\n",
       "<style scoped>\n",
       "    .dataframe tbody tr th:only-of-type {\n",
       "        vertical-align: middle;\n",
       "    }\n",
       "\n",
       "    .dataframe tbody tr th {\n",
       "        vertical-align: top;\n",
       "    }\n",
       "\n",
       "    .dataframe thead th {\n",
       "        text-align: right;\n",
       "    }\n",
       "</style>\n",
       "<table border=\"1\" class=\"dataframe\">\n",
       "  <thead>\n",
       "    <tr style=\"text-align: right;\">\n",
       "      <th></th>\n",
       "      <th>Unnamed: 0</th>\n",
       "      <th>wh_id</th>\n",
       "      <th>prt_client_id</th>\n",
       "      <th>generic_code_by</th>\n",
       "      <th>trade_code_by</th>\n",
       "      <th>ftpcod</th>\n",
       "      <th>inv_attr_str2</th>\n",
       "      <th>available_quantity_by</th>\n",
       "      <th>hold_quantity_by</th>\n",
       "      <th>status</th>\n",
       "      <th>dstloc</th>\n",
       "      <th>dstlod</th>\n",
       "      <th>supplier_batch_by</th>\n",
       "      <th>mandte</th>\n",
       "      <th>expire_dte</th>\n",
       "      <th>Rcpt Dt</th>\n",
       "      <th>quantity_by</th>\n",
       "      <th>supplier_batch_cleaned_by</th>\n",
       "    </tr>\n",
       "  </thead>\n",
       "  <tbody>\n",
       "    <tr>\n",
       "      <th>0</th>\n",
       "      <td>0</td>\n",
       "      <td>NaN</td>\n",
       "      <td>NUPCO-DMM</td>\n",
       "      <td>4110291700000</td>\n",
       "      <td>4110291700002</td>\n",
       "      <td>NaN</td>\n",
       "      <td>784020024</td>\n",
       "      <td>500</td>\n",
       "      <td>0</td>\n",
       "      <td>OK</td>\n",
       "      <td>A1AD08A016</td>\n",
       "      <td>DMM0149762</td>\n",
       "      <td>OC1077</td>\n",
       "      <td>20200301</td>\n",
       "      <td>20250228</td>\n",
       "      <td>2021-04-04</td>\n",
       "      <td>500</td>\n",
       "      <td>OC1077</td>\n",
       "    </tr>\n",
       "    <tr>\n",
       "      <th>1</th>\n",
       "      <td>1</td>\n",
       "      <td>NaN</td>\n",
       "      <td>NUPCO-DMM</td>\n",
       "      <td>4110292500000</td>\n",
       "      <td>4110292500001</td>\n",
       "      <td>NaN</td>\n",
       "      <td>785060623</td>\n",
       "      <td>69</td>\n",
       "      <td>0</td>\n",
       "      <td>OK</td>\n",
       "      <td>A1AD14B006</td>\n",
       "      <td>DMM0148578</td>\n",
       "      <td>LMP4C0221</td>\n",
       "      <td>20210201</td>\n",
       "      <td>20260228</td>\n",
       "      <td>2021-03-29</td>\n",
       "      <td>69</td>\n",
       "      <td>LMP4C0221</td>\n",
       "    </tr>\n",
       "    <tr>\n",
       "      <th>2</th>\n",
       "      <td>2</td>\n",
       "      <td>NaN</td>\n",
       "      <td>NUPCO-DMM</td>\n",
       "      <td>4110292500000</td>\n",
       "      <td>4110292500001</td>\n",
       "      <td>NaN</td>\n",
       "      <td>785060623</td>\n",
       "      <td>39</td>\n",
       "      <td>0</td>\n",
       "      <td>OK</td>\n",
       "      <td>A1AD06A008</td>\n",
       "      <td>DMM0164456</td>\n",
       "      <td>LMP4C0521</td>\n",
       "      <td>20210501</td>\n",
       "      <td>20260531</td>\n",
       "      <td>2021-07-06</td>\n",
       "      <td>39</td>\n",
       "      <td>LMP4C0521</td>\n",
       "    </tr>\n",
       "    <tr>\n",
       "      <th>3</th>\n",
       "      <td>3</td>\n",
       "      <td>NaN</td>\n",
       "      <td>NUPCO-DMM</td>\n",
       "      <td>4110292500100</td>\n",
       "      <td>4110292500101</td>\n",
       "      <td>NaN</td>\n",
       "      <td>785010026</td>\n",
       "      <td>78</td>\n",
       "      <td>0</td>\n",
       "      <td>OK</td>\n",
       "      <td>A1AD09A004</td>\n",
       "      <td>DMM0164385</td>\n",
       "      <td>LMP120521</td>\n",
       "      <td>20210501</td>\n",
       "      <td>20260531</td>\n",
       "      <td>2021-07-07</td>\n",
       "      <td>78</td>\n",
       "      <td>LMP120521</td>\n",
       "    </tr>\n",
       "    <tr>\n",
       "      <th>4</th>\n",
       "      <td>4</td>\n",
       "      <td>NaN</td>\n",
       "      <td>NUPCO-DMM</td>\n",
       "      <td>4110292500100</td>\n",
       "      <td>4110292500101</td>\n",
       "      <td>NaN</td>\n",
       "      <td>785010026</td>\n",
       "      <td>40</td>\n",
       "      <td>0</td>\n",
       "      <td>OK</td>\n",
       "      <td>A1AD11A008</td>\n",
       "      <td>DMM0138240</td>\n",
       "      <td>LMP121220</td>\n",
       "      <td>20201201</td>\n",
       "      <td>20251231</td>\n",
       "      <td>2021-02-03</td>\n",
       "      <td>40</td>\n",
       "      <td>LMP121220</td>\n",
       "    </tr>\n",
       "  </tbody>\n",
       "</table>\n",
       "</div>"
      ],
      "text/plain": [
       "   Unnamed: 0  wh_id prt_client_id generic_code_by  trade_code_by  ftpcod  \\\n",
       "0           0    NaN     NUPCO-DMM   4110291700000  4110291700002     NaN   \n",
       "1           1    NaN     NUPCO-DMM   4110292500000  4110292500001     NaN   \n",
       "2           2    NaN     NUPCO-DMM   4110292500000  4110292500001     NaN   \n",
       "3           3    NaN     NUPCO-DMM   4110292500100  4110292500101     NaN   \n",
       "4           4    NaN     NUPCO-DMM   4110292500100  4110292500101     NaN   \n",
       "\n",
       "  inv_attr_str2  available_quantity_by  hold_quantity_by status      dstloc  \\\n",
       "0     784020024                    500                 0     OK  A1AD08A016   \n",
       "1     785060623                     69                 0     OK  A1AD14B006   \n",
       "2     785060623                     39                 0     OK  A1AD06A008   \n",
       "3     785010026                     78                 0     OK  A1AD09A004   \n",
       "4     785010026                     40                 0     OK  A1AD11A008   \n",
       "\n",
       "       dstlod supplier_batch_by    mandte  expire_dte    Rcpt Dt  quantity_by  \\\n",
       "0  DMM0149762            OC1077  20200301    20250228 2021-04-04          500   \n",
       "1  DMM0148578         LMP4C0221  20210201    20260228 2021-03-29           69   \n",
       "2  DMM0164456         LMP4C0521  20210501    20260531 2021-07-06           39   \n",
       "3  DMM0164385         LMP120521  20210501    20260531 2021-07-07           78   \n",
       "4  DMM0138240         LMP121220  20201201    20251231 2021-02-03           40   \n",
       "\n",
       "  supplier_batch_cleaned_by  \n",
       "0                    OC1077  \n",
       "1                 LMP4C0221  \n",
       "2                 LMP4C0521  \n",
       "3                 LMP120521  \n",
       "4                 LMP121220  "
      ]
     },
     "execution_count": 6,
     "metadata": {},
     "output_type": "execute_result"
    }
   ],
   "source": [
    "# Remove null before converting to integer\n",
    "by_null = df_by[df_by['supplier_batch_cleaned_by'].isna()]\n",
    "df_by= df_by[df_by['supplier_batch_cleaned_by'].notnull()]\n",
    "\n",
    "df_by['generic_code_by'] = df_by['generic_code_by'].apply(int).astype(str)\n",
    "df_by['trade_code_by'] = df_by['trade_code_by'].apply(int).astype(str)\n",
    "df_by.head()"
   ]
  },
  {
   "cell_type": "markdown",
   "metadata": {},
   "source": [
    "## Calculations"
   ]
  },
  {
   "cell_type": "code",
   "execution_count": 7,
   "metadata": {},
   "outputs": [],
   "source": [
    "by_tableau=df_by.groupby(['generic_code_by','trade_code_by', 'supplier_batch_cleaned_by','supplier_batch_by'], as_index=False).sum()"
   ]
  },
  {
   "cell_type": "markdown",
   "metadata": {},
   "source": [
    "#### Deal With Duplicated cleaned_batch/batch"
   ]
  },
  {
   "cell_type": "code",
   "execution_count": 8,
   "metadata": {},
   "outputs": [
    {
     "name": "stderr",
     "output_type": "stream",
     "text": [
      "<ipython-input-8-04c668e61ba7>:2: SettingWithCopyWarning: \n",
      "A value is trying to be set on a copy of a slice from a DataFrame.\n",
      "Try using .loc[row_indexer,col_indexer] = value instead\n",
      "\n",
      "See the caveats in the documentation: https://pandas.pydata.org/pandas-docs/stable/user_guide/indexing.html#returning-a-view-versus-a-copy\n",
      "  df_by_dup['supplier_batch_cleaned_by'] =df_by_dup['supplier_batch_by']\n"
     ]
    }
   ],
   "source": [
    "df_by_dup = by_tableau[by_tableau.duplicated(['supplier_batch_cleaned_by','trade_code_by'],keep=False)]\n",
    "df_by_dup['supplier_batch_cleaned_by'] =df_by_dup['supplier_batch_by'] \n",
    "\n",
    "by_tableau = by_tableau.drop_duplicates(['supplier_batch_cleaned_by','trade_code_by'],keep=False)\n",
    "by_tableau=pd.concat([by_tableau,df_by_dup],axis=0)"
   ]
  },
  {
   "cell_type": "markdown",
   "metadata": {},
   "source": [
    "## Export BY File"
   ]
  },
  {
   "cell_type": "code",
   "execution_count": 9,
   "metadata": {},
   "outputs": [],
   "source": [
    "null_by_path = by_path.rsplit('\\\\',1)[0]+'\\\\null_by.xlsx'\n",
    "tableau_path = by_path.rsplit('\\\\',1)[0]+'\\\\tableau_by.xlsx'\n",
    "\n",
    "by_null.to_excel(null_by_path)\n",
    "by_tableau.to_excel(tableau_path)"
   ]
  },
  {
   "cell_type": "markdown",
   "metadata": {},
   "source": [
    "# *S4 SAP*"
   ]
  },
  {
   "cell_type": "code",
   "execution_count": 10,
   "metadata": {},
   "outputs": [],
   "source": [
    "df_sap = pd.read_excel(sap_path)"
   ]
  },
  {
   "cell_type": "code",
   "execution_count": 11,
   "metadata": {},
   "outputs": [
    {
     "data": {
      "text/plain": [
       "Index(['Customer Material Number', 'Several Customer Codes',\n",
       "       'Old material no.', 'Scientific Item', 'Material', 'Material Number',\n",
       "       'Plnt', 'Customer (GA)', 'SLoc', 'Batch', 'Supplier Batch', 'Cont./PO',\n",
       "       'Several Supplier Batches', 'Manuf. Dte', 'SLED/BBD', 'Unrestricted',\n",
       "       'BUn'],\n",
       "      dtype='object')"
      ]
     },
     "execution_count": 11,
     "metadata": {},
     "output_type": "execute_result"
    }
   ],
   "source": [
    "df_sap.columns"
   ]
  },
  {
   "cell_type": "code",
   "execution_count": 12,
   "metadata": {},
   "outputs": [
    {
     "data": {
      "text/html": [
       "<div>\n",
       "<style scoped>\n",
       "    .dataframe tbody tr th:only-of-type {\n",
       "        vertical-align: middle;\n",
       "    }\n",
       "\n",
       "    .dataframe tbody tr th {\n",
       "        vertical-align: top;\n",
       "    }\n",
       "\n",
       "    .dataframe thead th {\n",
       "        text-align: right;\n",
       "    }\n",
       "</style>\n",
       "<table border=\"1\" class=\"dataframe\">\n",
       "  <thead>\n",
       "    <tr style=\"text-align: right;\">\n",
       "      <th></th>\n",
       "      <th>Customer Material Number</th>\n",
       "      <th>Several Customer Codes</th>\n",
       "      <th>Old material no.</th>\n",
       "      <th>generic_code_sap</th>\n",
       "      <th>trade_code_sap</th>\n",
       "      <th>Material Number</th>\n",
       "      <th>Plnt</th>\n",
       "      <th>Customer (GA)</th>\n",
       "      <th>SLoc</th>\n",
       "      <th>sap_batches</th>\n",
       "      <th>supplier_batch_sap</th>\n",
       "      <th>Cont./PO</th>\n",
       "      <th>Several Supplier Batches</th>\n",
       "      <th>Manuf. Dte</th>\n",
       "      <th>SLED/BBD</th>\n",
       "      <th>quantity_sap</th>\n",
       "      <th>BUn</th>\n",
       "    </tr>\n",
       "  </thead>\n",
       "  <tbody>\n",
       "    <tr>\n",
       "      <th>0</th>\n",
       "      <td>133990271</td>\n",
       "      <td>NaN</td>\n",
       "      <td>NaN</td>\n",
       "      <td>4.227171e+12</td>\n",
       "      <td>4.227171e+12</td>\n",
       "      <td>MASK NASAL 000/OO PREMATR MP01510 DRAEGE</td>\n",
       "      <td>E2C1</td>\n",
       "      <td>120000.0</td>\n",
       "      <td>1000.0</td>\n",
       "      <td>1507222A</td>\n",
       "      <td>1507222A</td>\n",
       "      <td>COB</td>\n",
       "      <td>NaN</td>\n",
       "      <td>2015-07-30 00:00:00</td>\n",
       "      <td>2020-07-30 00:00:00</td>\n",
       "      <td>0</td>\n",
       "      <td>EA</td>\n",
       "    </tr>\n",
       "    <tr>\n",
       "      <th>1</th>\n",
       "      <td>137400105</td>\n",
       "      <td>NaN</td>\n",
       "      <td>NaN</td>\n",
       "      <td>4.227171e+12</td>\n",
       "      <td>4.227171e+12</td>\n",
       "      <td>RESUSCI MNUAL INFANT SPUR 335102000 AMBU</td>\n",
       "      <td>E2C1</td>\n",
       "      <td>120000.0</td>\n",
       "      <td>1000.0</td>\n",
       "      <td>1000416603</td>\n",
       "      <td>1000416603</td>\n",
       "      <td>5000000321</td>\n",
       "      <td>NaN</td>\n",
       "      <td>2020-07-01 00:00:00</td>\n",
       "      <td>2023-07-31 00:00:00</td>\n",
       "      <td>0</td>\n",
       "      <td>EA</td>\n",
       "    </tr>\n",
       "    <tr>\n",
       "      <th>2</th>\n",
       "      <td>137400105</td>\n",
       "      <td>NaN</td>\n",
       "      <td>NaN</td>\n",
       "      <td>4.227171e+12</td>\n",
       "      <td>4.227171e+12</td>\n",
       "      <td>RESUSCI MNUAL INFANT SPUR 335102000 AMBU</td>\n",
       "      <td>E2C1</td>\n",
       "      <td>120000.0</td>\n",
       "      <td>1000.0</td>\n",
       "      <td>1000297164</td>\n",
       "      <td>1000297164</td>\n",
       "      <td>5000000321</td>\n",
       "      <td>NaN</td>\n",
       "      <td>2019-09-21 00:00:00</td>\n",
       "      <td>2022-09-21 00:00:00</td>\n",
       "      <td>0</td>\n",
       "      <td>EA</td>\n",
       "    </tr>\n",
       "    <tr>\n",
       "      <th>3</th>\n",
       "      <td>137400105</td>\n",
       "      <td>NaN</td>\n",
       "      <td>NaN</td>\n",
       "      <td>4.227171e+12</td>\n",
       "      <td>4.227171e+12</td>\n",
       "      <td>RESUSCI MNUAL INFANT SPUR 335102000 AMBU</td>\n",
       "      <td>E2C1</td>\n",
       "      <td>120000.0</td>\n",
       "      <td>1000.0</td>\n",
       "      <td>0002342795</td>\n",
       "      <td>1000503001</td>\n",
       "      <td>5000000586</td>\n",
       "      <td>NaN</td>\n",
       "      <td>2021-03-30 00:00:00</td>\n",
       "      <td>2024-03-04 00:00:00</td>\n",
       "      <td>0</td>\n",
       "      <td>EA</td>\n",
       "    </tr>\n",
       "    <tr>\n",
       "      <th>4</th>\n",
       "      <td>137400105</td>\n",
       "      <td>NaN</td>\n",
       "      <td>NaN</td>\n",
       "      <td>4.227171e+12</td>\n",
       "      <td>4.227171e+12</td>\n",
       "      <td>RESUSCI MNUAL INFANT SPUR 335102000 AMBU</td>\n",
       "      <td>E2C1</td>\n",
       "      <td>120000.0</td>\n",
       "      <td>1000.0</td>\n",
       "      <td>030914</td>\n",
       "      <td>030914</td>\n",
       "      <td>COB</td>\n",
       "      <td>NaN</td>\n",
       "      <td>2014-09-30 00:00:00</td>\n",
       "      <td>2019-08-30 00:00:00</td>\n",
       "      <td>0</td>\n",
       "      <td>EA</td>\n",
       "    </tr>\n",
       "  </tbody>\n",
       "</table>\n",
       "</div>"
      ],
      "text/plain": [
       "  Customer Material Number Several Customer Codes  Old material no.  \\\n",
       "0                133990271                    NaN               NaN   \n",
       "1                137400105                    NaN               NaN   \n",
       "2                137400105                    NaN               NaN   \n",
       "3                137400105                    NaN               NaN   \n",
       "4                137400105                    NaN               NaN   \n",
       "\n",
       "   generic_code_sap  trade_code_sap                           Material Number  \\\n",
       "0      4.227171e+12    4.227171e+12  MASK NASAL 000/OO PREMATR MP01510 DRAEGE   \n",
       "1      4.227171e+12    4.227171e+12  RESUSCI MNUAL INFANT SPUR 335102000 AMBU   \n",
       "2      4.227171e+12    4.227171e+12  RESUSCI MNUAL INFANT SPUR 335102000 AMBU   \n",
       "3      4.227171e+12    4.227171e+12  RESUSCI MNUAL INFANT SPUR 335102000 AMBU   \n",
       "4      4.227171e+12    4.227171e+12  RESUSCI MNUAL INFANT SPUR 335102000 AMBU   \n",
       "\n",
       "   Plnt  Customer (GA)    SLoc sap_batches supplier_batch_sap    Cont./PO  \\\n",
       "0  E2C1       120000.0  1000.0    1507222A           1507222A         COB   \n",
       "1  E2C1       120000.0  1000.0  1000416603         1000416603  5000000321   \n",
       "2  E2C1       120000.0  1000.0  1000297164         1000297164  5000000321   \n",
       "3  E2C1       120000.0  1000.0  0002342795         1000503001  5000000586   \n",
       "4  E2C1       120000.0  1000.0      030914             030914         COB   \n",
       "\n",
       "  Several Supplier Batches           Manuf. Dte             SLED/BBD  \\\n",
       "0                      NaN  2015-07-30 00:00:00  2020-07-30 00:00:00   \n",
       "1                      NaN  2020-07-01 00:00:00  2023-07-31 00:00:00   \n",
       "2                      NaN  2019-09-21 00:00:00  2022-09-21 00:00:00   \n",
       "3                      NaN  2021-03-30 00:00:00  2024-03-04 00:00:00   \n",
       "4                      NaN  2014-09-30 00:00:00  2019-08-30 00:00:00   \n",
       "\n",
       "   quantity_sap BUn  \n",
       "0             0  EA  \n",
       "1             0  EA  \n",
       "2             0  EA  \n",
       "3             0  EA  \n",
       "4             0  EA  "
      ]
     },
     "execution_count": 12,
     "metadata": {},
     "output_type": "execute_result"
    }
   ],
   "source": [
    "df_sap = df_sap.rename(columns = new_columns_s4 )\n",
    "df_sap.head()"
   ]
  },
  {
   "cell_type": "markdown",
   "metadata": {},
   "source": [
    "## Asessing and Cleaning"
   ]
  },
  {
   "cell_type": "markdown",
   "metadata": {},
   "source": [
    "#### Remove Leading Zeros from Supplier Batches"
   ]
  },
  {
   "cell_type": "code",
   "execution_count": 13,
   "metadata": {},
   "outputs": [],
   "source": [
    "df_sap['supplier_batch_cleaned_sap'] = df_sap['supplier_batch_sap'].str.lstrip('0')"
   ]
  },
  {
   "cell_type": "markdown",
   "metadata": {},
   "source": [
    "#### Change Data Types"
   ]
  },
  {
   "cell_type": "code",
   "execution_count": 14,
   "metadata": {},
   "outputs": [
    {
     "name": "stdout",
     "output_type": "stream",
     "text": [
      "<class 'pandas.core.frame.DataFrame'>\n",
      "Int64Index: 25123 entries, 0 to 25133\n",
      "Data columns (total 18 columns):\n",
      " #   Column                      Non-Null Count  Dtype  \n",
      "---  ------                      --------------  -----  \n",
      " 0   Customer Material Number    24831 non-null  object \n",
      " 1   Several Customer Codes      23908 non-null  object \n",
      " 2   Old material no.            5849 non-null   float64\n",
      " 3   generic_code_sap            25123 non-null  object \n",
      " 4   trade_code_sap              25123 non-null  object \n",
      " 5   Material Number             25121 non-null  object \n",
      " 6   Plnt                        25123 non-null  object \n",
      " 7   Customer (GA)               25123 non-null  float64\n",
      " 8   SLoc                        25123 non-null  float64\n",
      " 9   sap_batches                 25123 non-null  object \n",
      " 10  supplier_batch_sap          25123 non-null  object \n",
      " 11  Cont./PO                    25046 non-null  object \n",
      " 12  Several Supplier Batches    4067 non-null   object \n",
      " 13  Manuf. Dte                  24338 non-null  object \n",
      " 14  SLED/BBD                    25123 non-null  object \n",
      " 15  quantity_sap                25123 non-null  int64  \n",
      " 16  BUn                         25123 non-null  object \n",
      " 17  supplier_batch_cleaned_sap  25123 non-null  object \n",
      "dtypes: float64(3), int64(1), object(14)\n",
      "memory usage: 3.6+ MB\n"
     ]
    }
   ],
   "source": [
    "# Remove null before converting to integer\n",
    "sap_null = df_sap[df_sap['supplier_batch_cleaned_sap'].isna()]\n",
    "df_sap= df_sap[df_sap['supplier_batch_cleaned_sap'].notnull()]\n",
    "\n",
    "df_sap['generic_code_sap'] = df_sap['generic_code_sap'].apply(int).astype(str)\n",
    "df_sap['trade_code_sap'] = df_sap['trade_code_sap'].apply(int).astype(str)\n",
    "df_sap.info()"
   ]
  },
  {
   "cell_type": "markdown",
   "metadata": {},
   "source": [
    "## Calculations"
   ]
  },
  {
   "cell_type": "code",
   "execution_count": 15,
   "metadata": {},
   "outputs": [],
   "source": [
    "sap_tableau=df_sap.groupby(['generic_code_sap','trade_code_sap','supplier_batch_cleaned_sap','supplier_batch_sap'], as_index=False).agg({\n",
    "                          'sap_batches' : lambda x: \"[%s]\" % ', '.join(x.astype(str)), 'quantity_sap' : ['sum']})\n",
    "\n",
    "sap_tableau.columns = sap_tableau.columns.droplevel(0)\n",
    "sap_tableau.columns= ['generic_code_sap','trade_code_sap','supplier_batch_cleaned_sap','supplier_batch_sap','sap_batches','quantity_sap']"
   ]
  },
  {
   "cell_type": "code",
   "execution_count": 16,
   "metadata": {},
   "outputs": [
    {
     "data": {
      "text/html": [
       "<div>\n",
       "<style scoped>\n",
       "    .dataframe tbody tr th:only-of-type {\n",
       "        vertical-align: middle;\n",
       "    }\n",
       "\n",
       "    .dataframe tbody tr th {\n",
       "        vertical-align: top;\n",
       "    }\n",
       "\n",
       "    .dataframe thead th {\n",
       "        text-align: right;\n",
       "    }\n",
       "</style>\n",
       "<table border=\"1\" class=\"dataframe\">\n",
       "  <thead>\n",
       "    <tr style=\"text-align: right;\">\n",
       "      <th></th>\n",
       "      <th>generic_code_sap</th>\n",
       "      <th>trade_code_sap</th>\n",
       "      <th>supplier_batch_cleaned_sap</th>\n",
       "      <th>supplier_batch_sap</th>\n",
       "      <th>sap_batches</th>\n",
       "      <th>quantity_sap</th>\n",
       "    </tr>\n",
       "  </thead>\n",
       "  <tbody>\n",
       "    <tr>\n",
       "      <th>0</th>\n",
       "      <td>4010151200000</td>\n",
       "      <td>4010151200001</td>\n",
       "      <td>219854701</td>\n",
       "      <td>219854701</td>\n",
       "      <td>[0000000279, 219854701]</td>\n",
       "      <td>0</td>\n",
       "    </tr>\n",
       "    <tr>\n",
       "      <th>1</th>\n",
       "      <td>4010151200000</td>\n",
       "      <td>4010151200001</td>\n",
       "      <td>219937932</td>\n",
       "      <td>219937932</td>\n",
       "      <td>[219937932, 0000000280]</td>\n",
       "      <td>0</td>\n",
       "    </tr>\n",
       "    <tr>\n",
       "      <th>2</th>\n",
       "      <td>4010151200000</td>\n",
       "      <td>4010151200002</td>\n",
       "      <td>219175707</td>\n",
       "      <td>219175707</td>\n",
       "      <td>[0002361604]</td>\n",
       "      <td>0</td>\n",
       "    </tr>\n",
       "    <tr>\n",
       "      <th>3</th>\n",
       "      <td>4110291700000</td>\n",
       "      <td>4110291700002</td>\n",
       "      <td>E2080</td>\n",
       "      <td>0E2080</td>\n",
       "      <td>[0002348055]</td>\n",
       "      <td>0</td>\n",
       "    </tr>\n",
       "    <tr>\n",
       "      <th>4</th>\n",
       "      <td>4110291700000</td>\n",
       "      <td>4110291700002</td>\n",
       "      <td>OC1077</td>\n",
       "      <td>OC1077</td>\n",
       "      <td>[OC1077]</td>\n",
       "      <td>500</td>\n",
       "    </tr>\n",
       "  </tbody>\n",
       "</table>\n",
       "</div>"
      ],
      "text/plain": [
       "  generic_code_sap trade_code_sap supplier_batch_cleaned_sap  \\\n",
       "0    4010151200000  4010151200001                  219854701   \n",
       "1    4010151200000  4010151200001                  219937932   \n",
       "2    4010151200000  4010151200002                  219175707   \n",
       "3    4110291700000  4110291700002                      E2080   \n",
       "4    4110291700000  4110291700002                     OC1077   \n",
       "\n",
       "  supplier_batch_sap              sap_batches  quantity_sap  \n",
       "0          219854701  [0000000279, 219854701]             0  \n",
       "1          219937932  [219937932, 0000000280]             0  \n",
       "2          219175707             [0002361604]             0  \n",
       "3             0E2080             [0002348055]             0  \n",
       "4             OC1077                 [OC1077]           500  "
      ]
     },
     "execution_count": 16,
     "metadata": {},
     "output_type": "execute_result"
    }
   ],
   "source": [
    "sap_tableau.head()"
   ]
  },
  {
   "cell_type": "markdown",
   "metadata": {},
   "source": [
    "#### Deal with Duplicated cleaned_batch/batch duplicate"
   ]
  },
  {
   "cell_type": "code",
   "execution_count": 17,
   "metadata": {},
   "outputs": [
    {
     "name": "stderr",
     "output_type": "stream",
     "text": [
      "<ipython-input-17-d2d559324e04>:3: SettingWithCopyWarning: \n",
      "A value is trying to be set on a copy of a slice from a DataFrame.\n",
      "Try using .loc[row_indexer,col_indexer] = value instead\n",
      "\n",
      "See the caveats in the documentation: https://pandas.pydata.org/pandas-docs/stable/user_guide/indexing.html#returning-a-view-versus-a-copy\n",
      "  df_sap_dup['supplier_batch_cleaned_sap'] =df_sap_dup['supplier_batch_sap']\n"
     ]
    }
   ],
   "source": [
    "df_sap_dup = sap_tableau[sap_tableau.duplicated(['supplier_batch_cleaned_sap','trade_code_sap'],keep=False)]\n",
    "\n",
    "df_sap_dup['supplier_batch_cleaned_sap'] =df_sap_dup['supplier_batch_sap'] \n",
    "\n",
    "sap_tableau = sap_tableau.drop_duplicates(['supplier_batch_cleaned_sap','trade_code_sap'],keep=False)\n",
    "sap_tableau=pd.concat([sap_tableau,df_sap_dup],axis=0)"
   ]
  },
  {
   "cell_type": "markdown",
   "metadata": {},
   "source": [
    "## Export SAP Files"
   ]
  },
  {
   "cell_type": "code",
   "execution_count": 18,
   "metadata": {},
   "outputs": [],
   "source": [
    "sap_tableau.to_excel(r\"C:\\Users\\osama\\Documents\\nupco\\stock adjustment\\sap_grouped.xls\")\n",
    "df_sap_dup.to_excel(r\"C:\\Users\\osama\\Documents\\nupco\\stock adjustment\\sap_duplicates.xls\")"
   ]
  },
  {
   "cell_type": "code",
   "execution_count": 19,
   "metadata": {},
   "outputs": [],
   "source": [
    "null_sap_path = by_path.rsplit('\\\\',1)[0]+'\\\\null_sap.xlsx'\n",
    "tableau_path = by_path.rsplit('\\\\',1)[0]+'\\\\tableau_sap.xlsx'\n",
    "\n",
    "by_null.to_excel(null_sap_path)\n",
    "sap_tableau.to_excel(tableau_path)"
   ]
  }
 ],
 "metadata": {
  "kernelspec": {
   "display_name": "Python 3",
   "language": "python",
   "name": "python3"
  },
  "language_info": {
   "codemirror_mode": {
    "name": "ipython",
    "version": 3
   },
   "file_extension": ".py",
   "mimetype": "text/x-python",
   "name": "python",
   "nbconvert_exporter": "python",
   "pygments_lexer": "ipython3",
   "version": "3.8.5"
  }
 },
 "nbformat": 4,
 "nbformat_minor": 4
}
